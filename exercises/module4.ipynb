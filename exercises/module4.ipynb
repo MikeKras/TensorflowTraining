{
 "cells": [
  {
   "cell_type": "code",
   "execution_count": null,
   "metadata": {},
   "outputs": [],
   "source": [
    "import tensorflow as tf\n",
    "import numpy as np"
   ]
  },
  {
   "cell_type": "markdown",
   "metadata": {},
   "source": [
    "## Module 4.1 Simple TF Model"
   ]
  },
  {
   "cell_type": "code",
   "execution_count": null,
   "metadata": {
    "collapsed": true
   },
   "outputs": [],
   "source": [
    "from tensorflow.examples.tutorials.mnist import input_data\n",
    "mnist = input_data.read_data_sets(\"mnist\", one_hot=True)\n",
    "\n",
    "# Step 1: Initial Setup\n",
    "X = tf.placeholder(tf.float32, [None, 784])\n",
    "W = tf.Variable(tf.zeros([784, 10]))\n",
    "b = tf.Variable(tf.zeros([10]))\n",
    "\n",
    "# Step 2: Setup Model\n",
    "yhat = tf.nn.softmax(tf.matmul(X,W)+b)\n",
    "y = tf.placeholder(tf.float32, [None, 10]) # placeholder for correct answers\n",
    "\n",
    "# Step 3: Loss Functions\n",
    "loss = -tf.reduce_sum(y*tf.log(yhat))\n",
    "\n",
    "# Step 4: Optimizer\n",
    "optimizer = tf.train.GradientDescentOptimizer(0.001)\n",
    "train = optimizer.minimize(loss)\n",
    "\n",
    "# % of correct answer found in batches\n",
    "is_correct = tf.equal(tf.argmax(y,1),tf.argmax(yhat,1))\n",
    "accuracy = tf.reduce_mean(tf.cast(is_correct,tf.float32))\n",
    "\n",
    "init = tf.global_variables_initializer()\n",
    "sess = tf.Session()\n",
    "sess.run(init)\n",
    "\n",
    "# Step 5: Training Loop\n",
    "for i in range(1000):\n",
    "    batch_X, batch_y = mnist.train.next_batch(100)\n",
    "    train_data = {X: batch_X, y: batch_y}\n",
    "    sess.run(train, feed_dict=train_data)\n",
    "    print(\"Training Accuracy = \",sess.run(accuracy,feed_dict = train_data))\n",
    "\n",
    "# Step 5: Evaluation\n",
    "test_data = {X:mnist.test.images,y:mnist.test.labels}\n",
    "print(\"Testing Accuracy = \", sess.run(accuracy, feed_dict = test_data))"
   ]
  },
  {
   "cell_type": "markdown",
   "metadata": {},
   "source": [
    "## Module 4.2 Simple TF Model on MNIST Dataset"
   ]
  },
  {
   "cell_type": "code",
   "execution_count": null,
   "metadata": {},
   "outputs": [],
   "source": [
    "from tensorflow.examples.tutorials.mnist import input_data\n",
    "mnist = input_data.read_data_sets(\"mnist\", one_hot=True)\n",
    "\n",
    "# Step 1: Initial Setup\n",
    "X = tf.placeholder(tf.float32, [None, 784])\n",
    "W = tf.Variable(tf.zeros([784, 10]))\n",
    "b = tf.Variable(tf.zeros([10]))\n",
    "\n",
    "# Step 2: Setup Model\n",
    "yhat = tf.nn.softmax(tf.matmul(X,W)+b)\n",
    "y = tf.placeholder(tf.float32, [None, 10]) # placeholder for correct answers\n",
    "\n",
    "# Step 3: Loss Functions\n",
    "loss = -tf.reduce_sum(y*tf.log(yhat))\n",
    "\n",
    "# Step 4: Optimizer\n",
    "optimizer = tf.train.GradientDescentOptimizer(0.001)\n",
    "train = optimizer.minimize(loss)\n",
    "\n",
    "# % of correct answer found in batches\n",
    "is_correct = tf.equal(tf.argmax(y,1),tf.argmax(yhat,1))\n",
    "accuracy = tf.reduce_mean(tf.cast(is_correct,tf.float32))\n",
    "\n",
    "init = tf.global_variables_initializer()\n",
    "sess = tf.Session()\n",
    "sess.run(init)\n",
    "\n",
    "# Step 5: Training Loop\n",
    "for i in range(1000):\n",
    "    batch_X, batch_y = mnist.train.next_batch(100)\n",
    "    train_data = {X: batch_X, y: batch_y}\n",
    "    sess.run(train, feed_dict=train_data)\n",
    "    print(\"Training Accuracy = \",sess.run(accuracy,feed_dict = train_data))\n",
    "\n",
    "# Step 5: Evaluation\n",
    "test_data = {X:mnist.test.images,y:mnist.test.labels}\n",
    "print(\"Testing Accuracy = \", sess.run(accuracy, feed_dict = test_data))"
   ]
  },
  {
   "cell_type": "markdown",
   "metadata": {},
   "source": [
    "## 4.3 Softmax Cross Entropy on MNIST "
   ]
  },
  {
   "cell_type": "code",
   "execution_count": null,
   "metadata": {},
   "outputs": [],
   "source": [
    "from tensorflow.examples.tutorials.mnist import input_data\n",
    "mnist = input_data.read_data_sets(\"mnist\", one_hot=True)\n",
    "\n",
    "# Step 1: Initial Setup\n",
    "X = tf.placeholder(tf.float32, [None, 784])\n",
    "W = tf.Variable(tf.zeros([784, 10]))\n",
    "b = tf.Variable(tf.zeros([10]))\n",
    "\n",
    "# Step 2: Setup Model\n",
    "yhat = tf.matmul(X, W) + b\n",
    "y = tf.placeholder(tf.float32, [None, 10]) # placeholder for correct answers\n",
    "\n",
    "# Step 3: Loss Functions\n",
    "loss = tf.reduce_mean(\n",
    "   tf.nn.softmax_cross_entropy_with_logits(labels=y, logits=yhat))\n",
    "\n",
    "# Step 4: Optimizer\n",
    "optimizer = tf.train.GradientDescentOptimizer(0.1)\n",
    "train = optimizer.minimize(loss)\n",
    "\n",
    "# % of correct answer found in batches\n",
    "is_correct = tf.equal(tf.argmax(y,1),tf.argmax(yhat,1))\n",
    "accuracy = tf.reduce_mean(tf.cast(is_correct,tf.float32))\n",
    "\n",
    "init = tf.global_variables_initializer()\n",
    "sess = tf.Session()\n",
    "sess.run(init)\n",
    "\n",
    "# Step 5: Training Loop\n",
    "for i in range(1000):\n",
    "    batch_X, batch_y = mnist.train.next_batch(100)\n",
    "    train_data = {X: batch_X, y: batch_y}\n",
    "    sess.run(train, feed_dict=train_data)\n",
    "    print(\"Training Accuracy = \",sess.run(accuracy,feed_dict = train_data))\n",
    "\n",
    "# Step 5: Prediction\n",
    "test_data = {X:mnist.test.images,y:mnist.test.labels}\n",
    "print(\"Testing Accuracy = \", sess.run(accuracy, feed_dict = test_data))"
   ]
  },
  {
   "cell_type": "markdown",
   "metadata": {},
   "source": [
    "## Iris Dataset Challenge"
   ]
  },
  {
   "cell_type": "code",
   "execution_count": 13,
   "metadata": {},
   "outputs": [
    {
     "name": "stdout",
     "output_type": "stream",
     "text": [
      "Training Accuracy =  1.0\n"
     ]
    }
   ],
   "source": [
    "import tensorflow as tf\n",
    "import numpy as np\n",
    "from sklearn import datasets\n",
    "\n",
    "iris = datasets.load_iris()\n",
    "X = iris.data\n",
    "target = iris.target\n",
    "\n",
    "# Convert the label into one-hot vector\n",
    "num_labels = len(np.unique(target))\n",
    "Y = np.eye(num_labels)[target]\n",
    "\n",
    "# Split the data into training and testing sets\n",
    "from sklearn.model_selection import train_test_split\n",
    "\n",
    "train_X, test_X, train_Y, test_Y = train_test_split(X, Y, test_size=0.33, random_state=42)\n",
    "\n",
    "# Step 1: Initial Setup\n",
    "X_size = train_X.shape[1]\n",
    "X = tf.placeholder(tf.float32, [None, X_size])\n",
    "W = tf.Variable(tf.zeros([X_size, 3]))\n",
    "b = tf.Variable(tf.zeros([3]))\n",
    "\n",
    "# Step 2: Define Model\n",
    "yhat = tf.matmul(X, W) + b\n",
    "y = tf.placeholder(tf.float32, [None, 3]) # Placeholder for correct answer\n",
    "\n",
    "# Step 3: Loss Function\n",
    "loss = tf.reduce_mean(tf.nn.softmax_cross_entropy_with_logits(labels=y, logits=yhat))\n",
    "\n",
    "# Step 4: Optimizer\n",
    "optimizer = tf.train.GradientDescentOptimizer(0.001)\n",
    "train = optimizer.minimize(loss)\n",
    "\n",
    "correct_prediction = tf.equal(tf.argmax(yhat, 1), tf.argmax(y, 1))\n",
    "accuracy = tf.reduce_mean(tf.cast(correct_prediction, tf.float32))\n",
    "\n",
    "init = tf.global_variables_initializer()\n",
    "sess = tf.Session()\n",
    "sess.run(init)\n",
    "\n",
    "# Step 5: Training Loop\n",
    "for epoch in range(150):\n",
    "    for i in range(len(train_X)):\n",
    "        training_data = {X: train_X[i: i + 1], y: train_Y[i: i + 1]}\n",
    "        sess.run(train, feed_dict = training_data)\n",
    "\n",
    "# Step 6: Evaluation\n",
    "testing_data = {X: test_X, y: test_Y}\n",
    "print(\"Training Accuracy = \", sess.run(accuracy, feed_dict = testing_data))\n",
    "\n",
    "\n"
   ]
  },
  {
   "cell_type": "code",
   "execution_count": null,
   "metadata": {
    "collapsed": true
   },
   "outputs": [],
   "source": []
  }
 ],
 "metadata": {
  "kernelspec": {
   "display_name": "Python 3",
   "language": "python",
   "name": "python3"
  },
  "language_info": {
   "codemirror_mode": {
    "name": "ipython",
    "version": 3
   },
   "file_extension": ".py",
   "mimetype": "text/x-python",
   "name": "python",
   "nbconvert_exporter": "python",
   "pygments_lexer": "ipython3",
   "version": "3.6.1"
  }
 },
 "nbformat": 4,
 "nbformat_minor": 2
}
